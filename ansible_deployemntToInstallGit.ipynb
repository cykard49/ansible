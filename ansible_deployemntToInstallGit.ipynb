{
 "cells": [
  {
   "cell_type": "code",
   "execution_count": null,
   "id": "bfc2cc48",
   "metadata": {},
   "outputs": [],
   "source": [
    "#To install Ansible on the control host, Run the following commands on the control host:\n",
    "\n",
    "sudo yum install epel-release\n",
    "\n",
    "sudo yum install ansible\n",
    "\n"
   ]
  },
  {
   "cell_type": "code",
   "execution_count": null,
   "id": "7d0572ee",
   "metadata": {},
   "outputs": [],
   "source": [
    "#Create an `ansible` user on both the control host and workstation host being sure to set a password you can remember.\n",
    "#On each host, run the noted commands below:\n",
    "\n",
    "sudo useradd ansible\n",
    "\n",
    "sudo passwd ansible"
   ]
  },
  {
   "cell_type": "code",
   "execution_count": null,
   "id": "1443aa2c",
   "metadata": {},
   "outputs": [],
   "source": [
    "#Configure a pre-shared key for Ansible that allows the user to log in from `control` to `workstation`\n",
    "#without a password.\n",
    "#Assuming you are logged into control as jake-user, run the following commands providing the\n",
    "#appropirate passwords when prompted and default options otherwise:\n",
    "\n",
    "sudo -i -u ansible #provide jake_user a sudo password\n",
    "\n",
    "ssh-keygen #accept default options by pressing enter\n",
    "\n",
    "ssh-copy-id workstation #provide ansible user a password\n",
    "\n",
    "logout"
   ]
  },
  {
   "cell_type": "code",
   "execution_count": null,
   "id": "d903297b",
   "metadata": {},
   "outputs": [],
   "source": [
    "#Configure the Ansible user on the workstation host so that Ansible may sudo without a password.\n",
    "\n",
    "#Log into the workstation host as jake_user and run the following commands:\n",
    "sudo visudo\n",
    "\n",
    "#Add text at the end of the file that is opened:\n",
    "ansible ALL=(ALL) NOPASSWD: ALL\n",
    "\n",
    "#Save file:\n",
    "(:wq in vim)"
   ]
  },
  {
   "cell_type": "code",
   "execution_count": null,
   "id": "09ed2369",
   "metadata": {},
   "outputs": [],
   "source": [
    "#Create a simple inventory in `/home/ansible/inventory` consisting of only the `workstation` host.\n",
    "\n",
    "#On the control host as the ansible user run the following commands:\n",
    "vi /home/ansible/inventory\n",
    "\n",
    "#Add the text \"workstation\" to the file and save using\n",
    "(:wq in vim)"
   ]
  },
  {
   "cell_type": "code",
   "execution_count": null,
   "id": "0f6f5e97",
   "metadata": {},
   "outputs": [],
   "source": [
    "#Write an Ansible playbook in `/home/ansible/git-setup.yml` on the control node that\n",
    "#installs `git` on `workstation` then execute the playbook.\n",
    "\n",
    "#On the control host as the ansible user run the following commands:\n",
    "vim /home/ansible/git-setup.yml\n",
    "\n",
    "#Add the following text to the file:\n",
    "--- # install git on target host\n",
    "- hosts: workstation\n",
    "  become: yes\n",
    "  tasks:\n",
    "  - name: install git\n",
    "    yum:\n",
    "      name: git\n",
    "      state: latest\n",
    "#Save (:wq in vim) and quit the text editor.\n",
    "\n",
    "#Run:\n",
    "ansible-playbook -i /home/ansible/inventory /home/ansible/git-setup.yml"
   ]
  }
 ],
 "metadata": {
  "kernelspec": {
   "display_name": "Python 3 (ipykernel)",
   "language": "python",
   "name": "python3"
  },
  "language_info": {
   "codemirror_mode": {
    "name": "ipython",
    "version": 3
   },
   "file_extension": ".py",
   "mimetype": "text/x-python",
   "name": "python",
   "nbconvert_exporter": "python",
   "pygments_lexer": "ipython3",
   "version": "3.9.13"
  }
 },
 "nbformat": 4,
 "nbformat_minor": 5
}
